{
  "nbformat": 4,
  "nbformat_minor": 0,
  "metadata": {
    "colab": {
      "provenance": [],
      "authorship_tag": "ABX9TyNTixTSSe8nyxG15gWhKqY9",
      "include_colab_link": true
    },
    "kernelspec": {
      "name": "python3",
      "display_name": "Python 3"
    },
    "language_info": {
      "name": "python"
    }
  },
  "cells": [
    {
      "cell_type": "markdown",
      "metadata": {
        "id": "view-in-github",
        "colab_type": "text"
      },
      "source": [
        "<a href=\"https://colab.research.google.com/github/keerthana-24-dharmaram/AIML-2025/blob/main/Untitled2.ipynb\" target=\"_parent\"><img src=\"https://colab.research.google.com/assets/colab-badge.svg\" alt=\"Open In Colab\"/></a>"
      ]
    },
    {
      "cell_type": "code",
      "execution_count": 12,
      "metadata": {
        "colab": {
          "base_uri": "https://localhost:8080/"
        },
        "id": "nIkJfRzSW_Ep",
        "outputId": "fe1d3b6e-5100-42f0-e07a-d0634849bb98"
      },
      "outputs": [
        {
          "output_type": "stream",
          "name": "stdout",
          "text": [
            "   Unnamed: 0  recipe_number  recipe_code         recipe_name  \\\n",
            "0           0              1        14299  Creamy White Chili   \n",
            "1           1              1        14299  Creamy White Chili   \n",
            "2           2              1        14299  Creamy White Chili   \n",
            "3           3              1        14299  Creamy White Chili   \n",
            "4           4              1        14299  Creamy White Chili   \n",
            "\n",
            "                                        comment_id         user_id  \\\n",
            "0  sp_aUSaElGf_14299_c_2G3aneMRgRMZwXqIHmSdXSG1hEM  u_9iFLIhMa8QaG   \n",
            "1  sp_aUSaElGf_14299_c_2FsPC83HtzCsQAtOxlbL6RcaPbY  u_Lu6p25tmE77j   \n",
            "2  sp_aUSaElGf_14299_c_2FPrSGyTv7PQkZq37j92r9mYGkP  u_s0LwgpZ8Jsqq   \n",
            "3  sp_aUSaElGf_14299_c_2DzdSIgV9qNiuBaLoZ7JQaartoC  u_fqrybAdYjgjG   \n",
            "4  sp_aUSaElGf_14299_c_2DtZJuRQYeTFwXBoZRfRhBPEXjI  u_XXWKwVhKZD69   \n",
            "\n",
            "    user_name  user_reputation  created_at  reply_count  thumbs_up  \\\n",
            "0     Jeri326                1  1665619889            0          0   \n",
            "1     Mark467               50  1665277687            0          7   \n",
            "2  Barbara566               10  1664404557            0          3   \n",
            "3  jeansch123                1  1661787808            2          2   \n",
            "4    camper77               10  1664913823            1          7   \n",
            "\n",
            "   thumbs_down  stars  best_score  \\\n",
            "0            0      5         527   \n",
            "1            0      5         724   \n",
            "2            0      5         710   \n",
            "3            0      0         581   \n",
            "4            0      0         820   \n",
            "\n",
            "                                                text  \n",
            "0  I tweaked it a little, removed onions because ...  \n",
            "1  Bush used to have a white chili bean and it ma...  \n",
            "2  I have a very complicated white chicken chili ...  \n",
            "3  In your introduction, you mentioned cream chee...  \n",
            "4  Wonderful! I made this for a &#34;Chili/Stew&#...  \n",
            "<class 'pandas.core.frame.DataFrame'>\n",
            "RangeIndex: 18182 entries, 0 to 18181\n",
            "Data columns (total 15 columns):\n",
            " #   Column           Non-Null Count  Dtype \n",
            "---  ------           --------------  ----- \n",
            " 0   Unnamed: 0       18182 non-null  int64 \n",
            " 1   recipe_number    18182 non-null  int64 \n",
            " 2   recipe_code      18182 non-null  int64 \n",
            " 3   recipe_name      18182 non-null  object\n",
            " 4   comment_id       18182 non-null  object\n",
            " 5   user_id          18182 non-null  object\n",
            " 6   user_name        18182 non-null  object\n",
            " 7   user_reputation  18182 non-null  int64 \n",
            " 8   created_at       18182 non-null  int64 \n",
            " 9   reply_count      18182 non-null  int64 \n",
            " 10  thumbs_up        18182 non-null  int64 \n",
            " 11  thumbs_down      18182 non-null  int64 \n",
            " 12  stars            18182 non-null  int64 \n",
            " 13  best_score       18182 non-null  int64 \n",
            " 14  text             18180 non-null  object\n",
            "dtypes: int64(10), object(5)\n",
            "memory usage: 2.1+ MB\n",
            "None\n"
          ]
        }
      ],
      "source": [
        "import pandas as pd\n",
        "df = pd.read_csv('/content/recipe+reviews+and+user+feedback+dataset.zip')\n",
        "\n",
        "print(df.head())\n",
        "print(df.info())\n",
        "\n"
      ]
    },
    {
      "cell_type": "code",
      "source": [
        "print(df.columns)"
      ],
      "metadata": {
        "colab": {
          "base_uri": "https://localhost:8080/"
        },
        "id": "ja4-v4wJd-W7",
        "outputId": "f357d666-4efe-44ec-fb06-937956a21bee"
      },
      "execution_count": 14,
      "outputs": [
        {
          "output_type": "stream",
          "name": "stdout",
          "text": [
            "Index(['Unnamed: 0', 'recipe_number', 'recipe_code', 'recipe_name',\n",
            "       'comment_id', 'user_id', 'user_name', 'user_reputation', 'created_at',\n",
            "       'reply_count', 'thumbs_up', 'thumbs_down', 'stars', 'best_score',\n",
            "       'text'],\n",
            "      dtype='object')\n"
          ]
        }
      ]
    },
    {
      "cell_type": "code",
      "source": [
        "# Find the recipe with the highest average rating\n",
        "most_appreciated = df.groupby('recipe_name')['stars'].mean().idxmax()\n",
        "print(f\"The most appreciated recipe is: {most_appreciated}\")"
      ],
      "metadata": {
        "colab": {
          "base_uri": "https://localhost:8080/"
        },
        "id": "7TCHYdN3dIVx",
        "outputId": "9153190d-9eaf-4d6b-db39-e8813274b578"
      },
      "execution_count": 19,
      "outputs": [
        {
          "output_type": "stream",
          "name": "stdout",
          "text": [
            "The most appreciated recipe is: Rustic Italian Tortellini Soup\n"
          ]
        }
      ]
    },
    {
      "cell_type": "code",
      "source": [
        "# Count comments per recipe to determine popularity\n",
        "top_5_prepared = df['recipe_name'].value_counts().head(5)\n",
        "print(\"Top 5 recipes prepared the most:\")\n",
        "print(top_5_prepared)"
      ],
      "metadata": {
        "colab": {
          "base_uri": "https://localhost:8080/"
        },
        "id": "l8ziSVpwe77Z",
        "outputId": "65fdfac2-5179-4dd6-b0d6-0685dfa40b6e"
      },
      "execution_count": 21,
      "outputs": [
        {
          "output_type": "stream",
          "name": "stdout",
          "text": [
            "Top 5 recipes prepared the most:\n",
            "recipe_name\n",
            "Cheeseburger Soup         725\n",
            "Creamy White Chili        654\n",
            "Best Ever Banana Bread    509\n",
            "Enchilada Casser-Ole!     421\n",
            "Basic Homemade Bread      397\n",
            "Name: count, dtype: int64\n"
          ]
        }
      ]
    },
    {
      "cell_type": "code",
      "source": [
        "# Sum thumbs up for each recipe\n",
        "most_delight = df.groupby('recipe_name')['thumbs_up'].sum().idxmax()\n",
        "print(f\"The recipe with the most user delight is: {most_delight}\")\n"
      ],
      "metadata": {
        "colab": {
          "base_uri": "https://localhost:8080/"
        },
        "id": "elZ6BYU-aiMw",
        "outputId": "4d4d887e-5715-48a0-f501-8af5b2dbe0e3"
      },
      "execution_count": 24,
      "outputs": [
        {
          "output_type": "stream",
          "name": "stdout",
          "text": [
            "The recipe with the most user delight is: Amish Breakfast Casserole\n"
          ]
        }
      ]
    },
    {
      "cell_type": "code",
      "source": [
        "# Calculate total user reputation for each recipe\n",
        "highest_reputation = df.groupby('recipe_name')['user_reputation'].sum().idxmax()\n",
        "print(f\"The recipe with the highest reputation is: {highest_reputation}\")"
      ],
      "metadata": {
        "colab": {
          "base_uri": "https://localhost:8080/"
        },
        "id": "eGWCdeQafzf4",
        "outputId": "5215d71b-949f-4ef2-abc7-ea37575b6d69"
      },
      "execution_count": 26,
      "outputs": [
        {
          "output_type": "stream",
          "name": "stdout",
          "text": [
            "The recipe with the highest reputation is: Cheeseburger Soup\n"
          ]
        }
      ]
    },
    {
      "cell_type": "code",
      "source": [
        "# Filter top 100 recipes by comment count\n",
        "top_100_recipes = df['recipe_name'].value_counts().head(100)\n",
        "\n",
        "# Find the most ordered recipes among the top 100\n",
        "most_ordered = top_100_recipes.head()\n",
        "print(\"Most ordered recipes among the top 100:\")\n",
        "print(most_ordered)"
      ],
      "metadata": {
        "colab": {
          "base_uri": "https://localhost:8080/"
        },
        "id": "_YkDGvNYf72g",
        "outputId": "dacd0e46-f2f9-4a89-ea6a-37bff5b2c246"
      },
      "execution_count": 27,
      "outputs": [
        {
          "output_type": "stream",
          "name": "stdout",
          "text": [
            "Most ordered recipes among the top 100:\n",
            "recipe_name\n",
            "Cheeseburger Soup         725\n",
            "Creamy White Chili        654\n",
            "Best Ever Banana Bread    509\n",
            "Enchilada Casser-Ole!     421\n",
            "Basic Homemade Bread      397\n",
            "Name: count, dtype: int64\n"
          ]
        }
      ]
    }
  ]
}