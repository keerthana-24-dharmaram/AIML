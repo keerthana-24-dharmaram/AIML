{
  "nbformat": 4,
  "nbformat_minor": 0,
  "metadata": {
    "colab": {
      "provenance": [],
      "authorship_tag": "ABX9TyNbKmDrQzpBCdCGqsXKf+HT",
      "include_colab_link": true
    },
    "kernelspec": {
      "name": "python3",
      "display_name": "Python 3"
    },
    "language_info": {
      "name": "python"
    }
  },
  "cells": [
    {
      "cell_type": "markdown",
      "metadata": {
        "id": "view-in-github",
        "colab_type": "text"
      },
      "source": [
        "<a href=\"https://colab.research.google.com/github/keerthana-24-dharmaram/AIML-2025/blob/main/Untitled0.ipynb\" target=\"_parent\"><img src=\"https://colab.research.google.com/assets/colab-badge.svg\" alt=\"Open In Colab\"/></a>"
      ]
    },
    {
      "cell_type": "markdown",
      "source": [
        "Implement Breadth First Search Algorithm\n"
      ],
      "metadata": {
        "id": "uik9ZXICrksu"
      }
    },
    {
      "cell_type": "code",
      "source": [
        "from queue import Queue\n",
        "graph = { 0:[1,2,3],\n",
        "          1:[0,2],\n",
        "          2:[0,3,5],\n",
        "          3:[0,2,4],\n",
        "          4:[3,5,7],\n",
        "          5:[2,4,6,7],\n",
        "          6:[7,5],\n",
        "          7:[]}\n",
        "print(\"the adjacency List representing the graph is:\")\n",
        "print(graph)\n",
        "\n",
        "def bfs(graph,source):\n",
        "     Q = Queue()\n",
        "     visited_vertices = set()\n",
        "     Q.put(source)\n",
        "     visited_vertices.update({source})\n",
        "     while not Q.empty():\n",
        "         vertex = Q.get();\n",
        "         print(vertex,end = \"-->\")\n",
        "         for u in graph[vertex]:\n",
        "             if u not in visited_vertices:\n",
        "                 Q.put(u)\n",
        "                 visited_vertices.update({u})\n",
        "\n",
        "print(\"BFS traversal of graph with source 0 is:\")\n",
        "bfs(graph,0)\n"
      ],
      "metadata": {
        "colab": {
          "base_uri": "https://localhost:8080/"
        },
        "id": "7x0Wh_dIsu3B",
        "outputId": "3028d8d3-4059-4581-c6b0-ae135244b788"
      },
      "execution_count": 15,
      "outputs": [
        {
          "output_type": "stream",
          "name": "stdout",
          "text": [
            "the adjacency List representing the graph is:\n",
            "{0: [1, 2, 3], 1: [0, 2], 2: [0, 3, 5], 3: [0, 2, 4], 4: [3, 5, 7], 5: [2, 4, 6, 7], 6: [7, 5], 7: []}\n",
            "BFS traversal of graph with source 0 is:\n",
            "0-->1-->2-->3-->5-->4-->6-->7-->"
          ]
        }
      ]
    },
    {
      "cell_type": "markdown",
      "source": [
        "Implement Depth First Search Algorithm"
      ],
      "metadata": {
        "id": "t5FHu3Wbz5p0"
      }
    },
    {
      "cell_type": "code",
      "source": [
        "graph1 = {\n",
        "    'A':['B','C','G'],\n",
        "    'B':['A'],\n",
        "    'C':['A','D','F'],\n",
        "    'D':['A','C' ,'E','H'],\n",
        "    'E':['D','H','F'],\n",
        "    'F':['C','E'],\n",
        "    'G':['A','D','H'],\n",
        "    'H':['D','E','G']\n",
        "     }\n",
        "def dfs(graph, node , visited):\n",
        "    if node not in visited:\n",
        "        visited.append(node)\n",
        "        for k in graph[node]:\n",
        "          dfs(graph,k,visited)\n",
        "        return visited\n",
        "\n",
        "visited = dfs(graph1, 'D', [])\n",
        "print(visited)"
      ],
      "metadata": {
        "colab": {
          "base_uri": "https://localhost:8080/"
        },
        "id": "uhdefiYM0GM6",
        "outputId": "7e7d7917-8a9a-48bb-989d-1f3b62c3be56"
      },
      "execution_count": 27,
      "outputs": [
        {
          "output_type": "stream",
          "name": "stdout",
          "text": [
            "['D', 'A', 'B', 'C', 'F', 'E', 'H', 'G']\n"
          ]
        }
      ]
    }
  ]
}