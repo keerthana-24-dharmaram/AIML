{
  "nbformat": 4,
  "nbformat_minor": 0,
  "metadata": {
    "colab": {
      "provenance": [],
      "authorship_tag": "ABX9TyNIz8vT/ZS2x4ZQjqduK+A6",
      "include_colab_link": true
    },
    "kernelspec": {
      "name": "python3",
      "display_name": "Python 3"
    },
    "language_info": {
      "name": "python"
    }
  },
  "cells": [
    {
      "cell_type": "markdown",
      "metadata": {
        "id": "view-in-github",
        "colab_type": "text"
      },
      "source": [
        "<a href=\"https://colab.research.google.com/github/keerthana-24-dharmaram/AIML-2025/blob/main/Lab01_AIML.ipynb\" target=\"_parent\"><img src=\"https://colab.research.google.com/assets/colab-badge.svg\" alt=\"Open In Colab\"/></a>"
      ]
    },
    {
      "cell_type": "markdown",
      "source": [
        "LAB-01:INTRODUCTION TO PYTHON,MATPLOTLIB,NUMPY\n"
      ],
      "metadata": {
        "id": "cn0HHjLHk9yk"
      }
    },
    {
      "cell_type": "markdown",
      "source": [
        " Introduction to Python Packages - Numpy, Pandas Matplotlib, and Access to Data Sources\n"
      ],
      "metadata": {
        "id": "ww2q0Qvilid-"
      }
    },
    {
      "cell_type": "markdown",
      "source": [
        "Part 1:Implement basic data structures using Numpy ,pandas\n"
      ],
      "metadata": {
        "id": "KgXJDakBln6R"
      }
    },
    {
      "cell_type": "code",
      "source": [
        "import numpy as np\n",
        "import matplotlib.pyplot as plt\n",
        "import pandas as pd\n",
        "list1 = [1,2,3,4]\n",
        "array1 = np.array(list1)\n",
        "array1\n",
        "array2 = np.array([1,2,3,4])\n",
        "list1,array1,array2"
      ],
      "metadata": {
        "colab": {
          "base_uri": "https://localhost:8080/"
        },
        "id": "MFroa866mjdI",
        "outputId": "ed271f05-b755-4a64-b5d1-ef4677a9a10a"
      },
      "execution_count": 4,
      "outputs": [
        {
          "output_type": "execute_result",
          "data": {
            "text/plain": [
              "([1, 2, 3, 4], array([1, 2, 3, 4]), array([1, 2, 3, 4]))"
            ]
          },
          "metadata": {},
          "execution_count": 4
        }
      ]
    }
  ]
}